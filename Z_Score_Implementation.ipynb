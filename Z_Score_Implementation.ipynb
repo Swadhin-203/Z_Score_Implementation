{
 "cells": [
  {
   "cell_type": "markdown",
   "id": "d57469a2",
   "metadata": {},
   "source": [
    "# Z-Score"
   ]
  },
  {
   "cell_type": "markdown",
   "id": "dc7840ee",
   "metadata": {},
   "source": [
    "## How to find outliers using Z-score"
   ]
  },
  {
   "cell_type": "code",
   "execution_count": 6,
   "id": "73194947",
   "metadata": {},
   "outputs": [],
   "source": [
    "import numpy as np\n",
    "def detect_outliers(data):\n",
    "    \n",
    "    mean =np.mean(data)\n",
    "    std=np.std(data)\n",
    "    thresold=3\n",
    "    outliers=[]\n",
    "    for i in data:\n",
    "        z_score=(i-mean)/std\n",
    "        if np.abs(z_score)>thresold:\n",
    "            outliers.append(i)\n",
    "    return outliers"
   ]
  },
  {
   "cell_type": "code",
   "execution_count": 18,
   "id": "6cfa42b4",
   "metadata": {},
   "outputs": [],
   "source": [
    "data=[1,2,2,2,3,1,1,15,2,2,2,3,1,1,2]\n"
   ]
  },
  {
   "cell_type": "code",
   "execution_count": 19,
   "id": "65d9cfbe",
   "metadata": {},
   "outputs": [
    {
     "data": {
      "text/plain": [
       "[15]"
      ]
     },
     "execution_count": 19,
     "metadata": {},
     "output_type": "execute_result"
    }
   ],
   "source": [
    "detect_outliers(data)"
   ]
  },
  {
   "cell_type": "code",
   "execution_count": null,
   "id": "9f0e27b3",
   "metadata": {},
   "outputs": [],
   "source": []
  }
 ],
 "metadata": {
  "kernelspec": {
   "display_name": "Python 3 (ipykernel)",
   "language": "python",
   "name": "python3"
  },
  "language_info": {
   "codemirror_mode": {
    "name": "ipython",
    "version": 3
   },
   "file_extension": ".py",
   "mimetype": "text/x-python",
   "name": "python",
   "nbconvert_exporter": "python",
   "pygments_lexer": "ipython3",
   "version": "3.10.9"
  }
 },
 "nbformat": 4,
 "nbformat_minor": 5
}
